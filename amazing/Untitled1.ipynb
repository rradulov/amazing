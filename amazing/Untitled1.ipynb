{
 "cells": [
  {
   "cell_type": "code",
   "execution_count": 1,
   "id": "153ac84b-645e-4c08-b9cd-6f2b356d9afd",
   "metadata": {},
   "outputs": [],
   "source": [
    "from amazing.lib import try_me"
   ]
  },
  {
   "cell_type": "code",
   "execution_count": 2,
   "id": "fe768889-d1a5-4144-a2d7-8a2713e37b67",
   "metadata": {},
   "outputs": [
    {
     "name": "stdout",
     "output_type": "stream",
     "text": [
      "This function does absolutely nothing.\n"
     ]
    }
   ],
   "source": [
    "try_me()"
   ]
  },
  {
   "cell_type": "code",
   "execution_count": null,
   "id": "17cdea02-efed-489e-9546-474113013ede",
   "metadata": {},
   "outputs": [],
   "source": []
  }
 ],
 "metadata": {
  "kernelspec": {
   "display_name": "Python 3 (ipykernel)",
   "language": "python",
   "name": "python3"
  },
  "language_info": {
   "codemirror_mode": {
    "name": "ipython",
    "version": 3
   },
   "file_extension": ".py",
   "mimetype": "text/x-python",
   "name": "python",
   "nbconvert_exporter": "python",
   "pygments_lexer": "ipython3",
   "version": "3.8.12"
  }
 },
 "nbformat": 4,
 "nbformat_minor": 5
}
